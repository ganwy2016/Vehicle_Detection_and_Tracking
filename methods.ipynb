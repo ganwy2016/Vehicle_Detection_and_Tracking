{
 "cells": [
  {
   "cell_type": "code",
   "execution_count": 1,
   "metadata": {
    "collapsed": true
   },
   "outputs": [],
   "source": [
    "import cv2\n",
    "import numpy as np\n",
    "import matplotlib.pyplot as plt\n",
    "from mpl_toolkits.mplot3d import Axes3D\n",
    "import matplotlib.image as mpimg\n",
    "import glob\n",
    "import time\n",
    "\n",
    "import scipy.misc\n",
    "from sklearn.svm import LinearSVC\n",
    "from sklearn.preprocessing import StandardScaler\n",
    "from sklearn.externals import joblib\n",
    "from sklearn.model_selection import train_test_split\n",
    "from skimage.feature import hog"
   ]
  },
  {
   "cell_type": "code",
   "execution_count": 2,
   "metadata": {
    "collapsed": true
   },
   "outputs": [],
   "source": [
    "def plot3d(pixels, colors_rgb,\n",
    "        axis_labels=list(\"RGB\"), axis_limits=[(0, 255), (0, 255), (0, 255)]):\n",
    "    \"\"\"Plot pixels in 3D.\"\"\"\n",
    "\n",
    "    # Create figure and 3D axes\n",
    "    fig = plt.figure(figsize=(8, 8))\n",
    "    ax = Axes3D(fig)\n",
    "\n",
    "    # Set axis limits\n",
    "    ax.set_xlim(*axis_limits[0])\n",
    "    ax.set_ylim(*axis_limits[1])\n",
    "    ax.set_zlim(*axis_limits[2])\n",
    "\n",
    "    # Set axis labels and sizes\n",
    "    ax.tick_params(axis='both', which='major', labelsize=14, pad=8)\n",
    "    ax.set_xlabel(axis_labels[0], fontsize=16, labelpad=16)\n",
    "    ax.set_ylabel(axis_labels[1], fontsize=16, labelpad=16)\n",
    "    ax.set_zlabel(axis_labels[2], fontsize=16, labelpad=16)\n",
    "\n",
    "    # Plot pixel values with colors given in colors_rgb\n",
    "    ax.scatter(\n",
    "        pixels[:, :, 0].ravel(),\n",
    "        pixels[:, :, 1].ravel(),\n",
    "        pixels[:, :, 2].ravel(),\n",
    "        c=colors_rgb.reshape((-1, 3)), edgecolors='none')\n",
    "\n",
    "    return ax  # return Axes3D object for further manipulation"
   ]
  },
  {
   "cell_type": "code",
   "execution_count": 3,
   "metadata": {
    "collapsed": true
   },
   "outputs": [],
   "source": [
    "# Define a function to compute binned color features  \n",
    "def bin_spatial(img, size=(32, 32)):\n",
    "    # Use cv2.resize().ravel() to create the feature vector\n",
    "    features = cv2.resize(img, size).ravel() \n",
    "    # Return the feature vector\n",
    "    return features"
   ]
  },
  {
   "cell_type": "code",
   "execution_count": 4,
   "metadata": {
    "collapsed": true
   },
   "outputs": [],
   "source": [
    "# Define a function to compute color histogram features  \n",
    "def color_hist(img, nbins=32, bins_range=(0, 256)):\n",
    "    # Compute the histogram of the color channels separately\n",
    "    channel1_hist = np.histogram(img[:,:,0], bins=nbins, range=bins_range)\n",
    "    channel2_hist = np.histogram(img[:,:,1], bins=nbins, range=bins_range)\n",
    "    channel3_hist = np.histogram(img[:,:,2], bins=nbins, range=bins_range)\n",
    "    # Concatenate the histograms into a single feature vector\n",
    "    hist_features = np.concatenate((channel1_hist[0], channel2_hist[0], channel3_hist[0]))\n",
    "    # Return the individual histograms, bin_centers and feature vector\n",
    "    return hist_features"
   ]
  },
  {
   "cell_type": "code",
   "execution_count": 5,
   "metadata": {
    "collapsed": true
   },
   "outputs": [],
   "source": [
    "# Define a function to return HOG features and visualization\n",
    "def get_hog_features(img, orient=9, pix_per_cell=8, cell_per_block=2,\n",
    "                        vis=False, feature_vec=True):\n",
    "    # Call with two outputs if vis==True\n",
    "    if vis == True:\n",
    "        features, hog_image = hog(img, orientations=orient, pixels_per_cell=(pix_per_cell, pix_per_cell),\n",
    "                                  cells_per_block=(cell_per_block, cell_per_block), transform_sqrt=True, \n",
    "                                  visualise=vis, feature_vector=feature_vec)\n",
    "        return features, hog_image\n",
    "    # Otherwise call with one output\n",
    "    else:      \n",
    "        features = hog(img, orientations=orient, pixels_per_cell=(pix_per_cell, pix_per_cell),\n",
    "                       cells_per_block=(cell_per_block, cell_per_block), transform_sqrt=True, \n",
    "                       visualise=vis, feature_vector=feature_vec)\n",
    "        return features"
   ]
  },
  {
   "cell_type": "code",
   "execution_count": 78,
   "metadata": {
    "collapsed": false
   },
   "outputs": [],
   "source": [
    "def extract_features_img(img,cspace='RGB', spatial_size=(32, 32),\n",
    "                        hist_bins=32, hist_range=(0, 256), orient=9, \n",
    "                        pix_per_cell=8, cell_per_block=2, hog_channel=0,debug=0):\n",
    "# apply color conversion if other than 'RGB'\n",
    "        if cspace != 'RGB':\n",
    "            if cspace == 'HSV':\n",
    "                feature_image = cv2.cvtColor(img, cv2.COLOR_BGR2HSV)\n",
    "            elif cspace == 'LUV':\n",
    "                feature_image = cv2.cvtColor(img, cv2.COLOR_BGR2LUV)\n",
    "            elif cspace == 'HLS':\n",
    "                feature_image = cv2.cvtColor(img, cv2.COLOR_BGR2HLS)\n",
    "            elif cspace == 'YUV':\n",
    "                feature_image = cv2.cvtColor(img, cv2.COLOR_BGR2YUV)\n",
    "            elif cspace == 'YCrCb':\n",
    "                feature_image = cv2.cvtColor(img, cv2.COLOR_RGB2YCrCb)\n",
    "        else: \n",
    "            image = cv2.cvtColor(img, cv2.COLOR_BGR2RGB) # convert to rgb\n",
    "            feature_image = np.copy(image)\n",
    "    \n",
    "        t1 = time.time()\n",
    "        # Apply bin_spatial() to get spatial color features\n",
    "        spatial_features = bin_spatial(feature_image, size=spatial_size)\n",
    "        \n",
    "        t2 = time.time()\n",
    "        # Apply color_hist() also with a color space option now\n",
    "        hist_features = color_hist(feature_image, nbins=hist_bins, bins_range=hist_range)\n",
    "        \n",
    "        t3 = time.time()\n",
    "        # Call get_hog_features() with vis=False, feature_vec=True\n",
    "        hog_features = get_hog_features(feature_image[:,:,hog_channel], orient, \n",
    "                                        pix_per_cell, cell_per_block, vis=False, feature_vec=True)\n",
    "        t4 = time.time()\n",
    "        \n",
    "        if debug:   \n",
    "            print ('spatial_time = ',(t2-t1)*1000,' ms')\n",
    "            print ('histogram_time = ',(t3-t2)*1000,' ms')\n",
    "            print ('hog_time = ',(t4-t3)*1000,' ms')\n",
    "            hog_features_0, hog_img_0= get_hog_features(feature_image[:,:,0], orient, \n",
    "                                        pix_per_cell, cell_per_block, vis=True, feature_vec=True)\n",
    "            hog_features_1, hog_img_1= get_hog_features(feature_image[:,:,1], orient, \n",
    "                                        pix_per_cell, cell_per_block, vis=True, feature_vec=True)\n",
    "            hog_features_2, hog_img_2= get_hog_features(feature_image[:,:,2], orient, \n",
    "                                        pix_per_cell, cell_per_block, vis=True, feature_vec=True)\n",
    "#             cv2.imwrite('RGB_hog_0.png',hog_img_0)\n",
    "#             cv2.imwrite('RGB_hog_1.png',hog_img_1)\n",
    "#             cv2.imwrite('RGB_hog_2.png',hog_img_2)\n",
    "            \n",
    "            width = 1/1.5\n",
    "            fig, ax = plt.subplots( nrows=1, ncols=1 )  # create figure & 1 axis\n",
    "            fig.tight_layout();\n",
    "            ax.bar(range(len(spatial_features)), spatial_features, width, color=\"blue\")\n",
    "            filename = cspace+'_spatial_features'\n",
    "            fig.suptitle(filename, fontsize=12)\n",
    "            plt.show()\n",
    "            fig.savefig('output_images/'+filename+'.png')\n",
    "            ###########################################################################\n",
    "            fig, ax = plt.subplots( nrows=1, ncols=1 )  # create figure & 1 axis\n",
    "            fig.tight_layout();\n",
    "            ax.bar(range(len(hist_features)), hist_features, width, color=\"blue\")\n",
    "            filename = cspace+'_hist_features'\n",
    "            fig.suptitle(filename, fontsize=12)\n",
    "            plt.show()\n",
    "            fig.savefig('output_images/'+filename+'.png')\n",
    "            ###########################################################################\n",
    "            fig, ax = plt.subplots( nrows=1, ncols=1 )  # create figure & 1 axis\n",
    "            fig.tight_layout();\n",
    "            ax.bar(range(len(hog_features)), hog_features, width, color=\"blue\")\n",
    "            filename = cspace+'_hog_features'\n",
    "            fig.suptitle(filename, fontsize=12)\n",
    "            plt.show()\n",
    "            fig.savefig('output_images/'+filename+'.png')\n",
    "            ###########################################################################\n",
    "            fig, ax = plt.subplots( nrows=1, ncols=1 )  # create figure & 1 axis\n",
    "            fig.tight_layout();\n",
    "            ax.axis('off')\n",
    "            plt.imshow(hog_img_0,cmap='gray')\n",
    "            filename = cspace+'_hog_ch_0'\n",
    "            fig.suptitle(filename, fontsize=12)\n",
    "            plt.show()\n",
    "            fig.savefig('output_images/'+filename+'.png')\n",
    "            ###########################################################################\n",
    "            fig, ax = plt.subplots( nrows=1, ncols=1 )  # create figure & 1 axis\n",
    "            fig.tight_layout();\n",
    "            ax.axis('off')\n",
    "            plt.imshow(hog_img_1,cmap='gray')\n",
    "            filename = cspace+'_hog_ch_1'\n",
    "            fig.suptitle(filename, fontsize=12)\n",
    "            plt.show()\n",
    "            fig.savefig('output_images/'+filename+'.png')\n",
    "            ###########################################################################\n",
    "            fig, ax = plt.subplots( nrows=1, ncols=1 )  # create figure & 1 axis\n",
    "            fig.tight_layout();\n",
    "            ax.axis('off')\n",
    "            plt.imshow(hog_img_2,cmap='gray')\n",
    "            filename = cspace+'_hog_ch_2'\n",
    "            fig.suptitle(filename, fontsize=12)\n",
    "            plt.show()\n",
    "            fig.savefig('output_images/'+filename+'.png')\n",
    "\n",
    "        return np.concatenate((spatial_features, hist_features, hog_features))"
   ]
  },
  {
   "cell_type": "code",
   "execution_count": 79,
   "metadata": {
    "collapsed": true
   },
   "outputs": [],
   "source": [
    "# Define a function to extract features from a list of images\n",
    "# Have this function call bin_spatial() and color_hist()\n",
    "# this function combines color, histogram and hog features extraction\n",
    "def extract_features(imgs, cspace='RGB', spatial_size=(32, 32),\n",
    "                        hist_bins=32, hist_range=(0, 256), orient=9, \n",
    "                        pix_per_cell=8, cell_per_block=2, hog_channel=0,debug=0):\n",
    "    # Create a list to append feature vectors to\n",
    "    features = []\n",
    "    # Iterate through the list of images\n",
    "    for file in imgs:\n",
    "        # Read in each one by one\n",
    "#         image = mpimg.imread(file)\n",
    "        image = cv2.imread(file) # reads a file into bgr values 0-255\n",
    "        img_features = extract_features_img(img,cspace='RGB',hog_channel=0,debug=debug)\n",
    "        # Append the new feature vector to the features list\n",
    "        features.append(img_features)\n",
    "        \n",
    "    # Return list of feature vectors\n",
    "    return features"
   ]
  },
  {
   "cell_type": "code",
   "execution_count": 80,
   "metadata": {
    "collapsed": false
   },
   "outputs": [],
   "source": [
    "# Define a function that takes an image,\n",
    "# start and stop positions in both x and y, \n",
    "# window size (x and y dimensions),  \n",
    "# and overlap fraction (for both x and y)\n",
    "def slide_window(img, x_start_stop=[None, None], y_start_stop=[None, None], \n",
    "                    xy_window=(64, 64), xy_overlap=(0.5, 0.5),max_y=780):\n",
    "    height, width, channels = img.shape\n",
    "    # If x and/or y start/stop positions not defined, set to image size\n",
    "    if x_start_stop[0] == None:\n",
    "        x_start_stop[0] = 0\n",
    "    if x_start_stop[1] == None:\n",
    "        x_start_stop[1] = img.shape[1]\n",
    "    if y_start_stop[0] == None:\n",
    "        y_start_stop[0] = 0\n",
    "    if y_start_stop[1] == None:\n",
    "        y_start_stop[1] = img.shape[0]\n",
    "    # Compute the span of the region to be searched    \n",
    "    xspan = x_start_stop[1] - x_start_stop[0]\n",
    "    yspan = y_start_stop[1] - y_start_stop[0]\n",
    "    # Compute the number of pixels per step in x/y\n",
    "    nx_pix_per_step = np.int(xy_window[0]*(1 - xy_overlap[0]))\n",
    "    ny_pix_per_step = np.int(xy_window[1]*(1 - xy_overlap[1]))\n",
    "    # Compute the number of windows in x/y\n",
    "    nx_windows = np.int(xspan/nx_pix_per_step) - 1\n",
    "    ny_windows = np.int(yspan/ny_pix_per_step) - 1\n",
    "    # Initialize a list to append window positions to\n",
    "    window_list = []\n",
    "    # Loop through finding x and y window positions\n",
    "    # Note: you could vectorize this step, but in practice\n",
    "    # you'll be considering windows one by one with your\n",
    "    # classifier, so looping makes sense\n",
    "    for ys in range(ny_windows):\n",
    "        for xs in range(nx_windows):\n",
    "            # Calculate window position\n",
    "            startx = int(xs*nx_pix_per_step + x_start_stop[0])\n",
    "            endx = int(startx + xy_window[0])\n",
    "            starty = int(ys*ny_pix_per_step + y_start_stop[0])\n",
    "            endy = int(starty + xy_window[1])\n",
    "            # Append window position to list\n",
    "            if endy<height and endx < width and endy<max_y:\n",
    "                window_list.append(((startx, starty), (endx, endy)))\n",
    "    # Return the list of windows\n",
    "    return window_list"
   ]
  },
  {
   "cell_type": "code",
   "execution_count": 81,
   "metadata": {
    "collapsed": false,
    "scrolled": true
   },
   "outputs": [
    {
     "name": "stdout",
     "output_type": "stream",
     "text": [
      "spatial_time =  0.013589859008789062  ms\n",
      "histogram_time =  0.5838871002197266  ms\n",
      "hog_time =  1.2407302856445312  ms\n"
     ]
    },
    {
     "data": {
      "image/png": "[encoded data removed]",
      "text/plain": [
       "<matplotlib.figure.Figure at 0x7f8695ee4b38>"
      ]
     },
     "metadata": {},
     "output_type": "display_data"
    },
    {
     "data": {
      "image/png": "[encoded data removed]",
      "text/plain": [
       "<matplotlib.figure.Figure at 0x7f86939bd390>"
      ]
     },
     "metadata": {},
     "output_type": "display_data"
    },
    {
     "data": {
      "image/png": "[encoded data removed]",
      "text/plain": [
       "<matplotlib.figure.Figure at 0x7f869700c940>"
      ]
     },
     "metadata": {},
     "output_type": "display_data"
    },
    {
     "data": {
      "image/png": "[encoded data removed]",
      "text/plain": [
       "<matplotlib.figure.Figure at 0x7f8695e25a58>"
      ]
     },
     "metadata": {},
     "output_type": "display_data"
    },
    {
     "data": {
      "image/png": "[encoded data removed]",
      "text/plain": [
       "<matplotlib.figure.Figure at 0x7f86974be240>"
      ]
     },
     "metadata": {},
     "output_type": "display_data"
    },
    {
     "data": {
      "image/png": "[encoded data removed]",
      "text/plain": [
       "<matplotlib.figure.Figure at 0x7f869678e7b8>"
      ]
     },
     "metadata": {},
     "output_type": "display_data"
    },
    {
     "data": {
      "text/plain": [
       "array([  1.46000000e+02,   1.56000000e+02,   1.37000000e+02, ...,\n",
       "         1.53337504e-02,   1.80869185e-02,   6.85306287e-03])"
      ]
     },
     "execution_count": 81,
     "metadata": {},
     "output_type": "execute_result"
    }
   ],
   "source": [
    "# Check the profile time for a single sample\n",
    "# t=time.time()        \n",
    "file='test_images/not_car.png'\n",
    "# file='test_images/car.png'\n",
    "# image = cv2.imread(file)\n",
    "image = scipy.misc.imread(file)\n",
    "size = (64,64)\n",
    "img = cv2.resize(image, size)#.astype(np.float32)\n",
    "extract_features_img(img,cspace='RGB',debug=1)\n",
    "# extract_features_img(img,cspace='HSV',debug=1)\n",
    "# extract_features_img(img,cspace='LUV',debug=1)\n",
    "# extract_features_img(img,cspace='HLS',debug=1)\n",
    "# extract_features_img(img,cspace='YUV',debug=1)\n",
    "# extract_features_img(img,cspace='YCrCb',debug=1)\n",
    "# t2 = time.time()\n",
    "# print(round(t2-t,1), 'Seconds')"
   ]
  }
 ],
 "metadata": {
  "anaconda-cloud": {},
  "kernelspec": {
   "display_name": "Python [conda env:carnd-term1]",
   "language": "python",
   "name": "conda-env-carnd-term1-py"
  },
  "language_info": {
   "codemirror_mode": {
    "name": "ipython",
    "version": 3
   },
   "file_extension": ".py",
   "mimetype": "text/x-python",
   "name": "python",
   "nbconvert_exporter": "python",
   "pygments_lexer": "ipython3",
   "version": "3.5.2"
  }
 },
 "nbformat": 4,
 "nbformat_minor": 1
}
